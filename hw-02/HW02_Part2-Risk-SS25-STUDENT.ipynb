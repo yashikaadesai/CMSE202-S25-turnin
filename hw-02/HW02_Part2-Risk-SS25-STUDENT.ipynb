{
 "cells": [
  {
   "cell_type": "markdown",
   "metadata": {},
   "source": [
    "# Homework Assignment 2 \n",
    "\n",
    "## Risk Graph\n",
    "\n",
    "### (Notebook 2 of 2)\n",
    "\n"
   ]
  },
  {
   "cell_type": "markdown",
   "metadata": {},
   "source": [
    "### <p style=\"text-align: right;\"> &#9989; Put your name here.</p>\n",
    "### <p style=\"text-align: right;\"> &#9989; Put your _GitHub username_ here.</p>"
   ]
  },
  {
   "cell_type": "markdown",
   "metadata": {},
   "source": [
    "## Assignment Overview\n",
    "\n",
    "In this assignment, we'll explore graphs using the board game Risk as our practical example. Risk is a strategy game played on a world map where territories are connected to their neighbors. This makes it a perfect candidate for graph representation and analysis.\n",
    "\n",
    "### Learning Objectives\n",
    "\n",
    "- Implement a graph representation of a real-world game board\n",
    "- practice using networkx\n",
    "- do some research\n",
    "- visualize graph data using NetworkX\n",
    "\n",
    "The assignment is split into two notebooks:\n",
    "- Notebook 1 of 2 is worth **14 + 33 + 3 = 51 points** \n",
    "- Notebook 2 of 2 is worth **1+ 42 + 1 = 44 points** \n",
    "for a total of **95 points**. Point values for each part are included in the section headers and question prompts.\n",
    "\n",
    "**This assignment is due at 11:59 pm on Friday, March 21st.** It should be uploaded into the \"Homework Assignments\" submission folder for Homework #2 on D2L.  Submission instructions can be found at the end of the notebook. **You must also fill out a survey regarding this assignment.** The link to this survey can also be found at the end of the notebook.\n",
    "\n",
    "---\n",
    "## &#128721; STOP\n",
    "**Pause to add this file and commit your changes to your Git repository! (1 points)**\n",
    "\n",
    "---"
   ]
  },
  {
   "cell_type": "code",
   "execution_count": null,
   "metadata": {},
   "outputs": [],
   "source": [
    "import networkx as nx\n",
    "import matplotlib.pyplot as plt\n",
    "import matplotlib as mpl\n",
    "import seaborn as sns\n",
    "import pandas as pd\n",
    "import numpy as np"
   ]
  },
  {
   "cell_type": "markdown",
   "metadata": {},
   "source": [
    "---\n",
    "<a id=\"part3\"></a>\n",
    "[Back to ToC](#toc)\n",
    "\n",
    "## Part 3: Creating the Risk Game Graph (42 points)\n",
    "\n",
    "\n",
    "![image](https://cf.geekdo-images.com/JM6hEipDwIByZKEIK9Dgeg__imagepage/img/OEl2gaJbUxdvIv6tNPzDsQyLUtQ=/fit-in/900x600/filters:no_upscale():strip_icc()/pic365731.jpg)\n",
    "\n",
    "\n",
    "&#9989; **Question 3.1 (5 points)**: Create a dictionary that defines the territories in Risk, organized by continents. Each territory should include its neighboring territories. Use the image above for completing the code below"
   ]
  },
  {
   "cell_type": "code",
   "execution_count": null,
   "metadata": {},
   "outputs": [],
   "source": [
    "# Define the Risk board territories and their connections\n",
    "risk_territories = {\n",
    "    'North America': {\n",
    "        'Alaska': ['Northwest Territory', 'Alberta', 'Kamchatka'],\n",
    "        'Northwest Territory': ['Alaska', 'Alberta', 'Greenland'],\n",
    "        'Greenland': ['Northwest Territory', 'Ontario', 'Quebec', 'Iceland'],\n",
    "        'Alberta': ['Alaska', 'Northwest Territory', 'Ontario', 'Western United States'],\n",
    "        'Ontario': ['Alberta', 'Northwest Territory', 'Greenland', 'Quebec', 'Western United States', 'Eastern United States'],\n",
    "        'Quebec': ['Ontario', 'Greenland', 'Eastern United States'],\n",
    "        'Western United States': ['Alberta', 'Ontario', 'Eastern United States', 'Central America'],\n",
    "        'Eastern United States': ['Western United States', 'Ontario', 'Quebec', 'Central America'],\n",
    "        'Central America': ['Western United States', 'Eastern United States', 'Venezuela']\n",
    "    },\n",
    "    # Complete the remaining continents\n",
    "    'South America': {\n",
    "        # Add territories and their connections\n",
    "    },\n",
    "    'Europe': {\n",
    "        # Add territories and their connections\n",
    "    },\n",
    "    'Africa': {\n",
    "        # Add territories and their connections\n",
    "    },\n",
    "    'Asia': {\n",
    "        # Add territories and their connections\n",
    "    },\n",
    "    'Australia': {\n",
    "        # Add territories and their connections\n",
    "    }\n",
    "}\n"
   ]
  },
  {
   "cell_type": "markdown",
   "metadata": {},
   "source": [
    "### Graph Creation\n",
    "\n",
    "&#9989; **Question 3.2 (7 points)**: Create a NetworkX graph object from the territory definitions. The territories are the nodes of the graph. Implement a function that builds the graph and adds appropriate attributes for continents. _Hint:_ Look up the documentation of `add_node`, what are the possible inputs? Don't forget to connect each territory to its neighbors. Make sure to add plenty of comments in your code."
   ]
  },
  {
   "cell_type": "code",
   "execution_count": null,
   "metadata": {},
   "outputs": [],
   "source": [
    "def create_risk_graph(territories):\n",
    "    \"\"\"\n",
    "    Create a NetworkX graph from the Risk territory definitions.\n",
    "    \n",
    "    Parameters:\n",
    "        territories (dict): Dictionary containing territory and connection information\n",
    "        \n",
    "    Returns:\n",
    "        G (nx.Graph): NetworkX graph representing the Risk board\n",
    "    \"\"\"\n",
    "    # Your code here\n",
    "    pass\n",
    "\n",
    "# Create the graph\n",
    "G = create_risk_graph(risk_territories)\n"
   ]
  },
  {
   "cell_type": "markdown",
   "metadata": {},
   "source": [
    "### Graph Visualization\n",
    "\n",
    "&#9989; **Question 3.3 (4 points)**: Create a visualization of the Risk board graph. You can use AI to help you with this. The function below should:\n",
    "\n",
    "- make a plot of the risk graph.\n",
    "- color nodes by continent\n",
    "- allow the user to choose a type of layout. _Hint:_ search networkx documentation for the possible layout. Min 5 layouts should be available.\n",
    "- print the name of each territory on the respective node\n",
    "- make a legend for the graph \n",
    "- have very descriptive comments \n",
    "- increase the size of each node from the default value  \n",
    "- increase the font size of label from the default value"
   ]
  },
  {
   "cell_type": "code",
   "execution_count": null,
   "metadata": {},
   "outputs": [],
   "source": [
    "def visualize_risk_graph(G):\n",
    "    \"\"\"\n",
    "    Create a visualization of the Risk board graph with continents colored differently.\n",
    "    \n",
    "    Parameters:\n",
    "        G (nx.Graph): NetworkX graph of the Risk board\n",
    "    \"\"\"\n",
    "    # Your code here\n",
    "    pass\n",
    "\n",
    "# Visualize the graph\n",
    "visualize_risk_graph(G)\n"
   ]
  },
  {
   "cell_type": "markdown",
   "metadata": {},
   "source": [
    "&#9989; **Question 3.4 (26 points)**: Answer the following questions based on the Risk board graph visualization. Each answer should have a minimum of 1-2 sentences and snippet of the code that supports your answer. You must explain what each function in the code snippet does. \n",
    "\n",
    "All answers should be in the same markdown cell. \n",
    "\n",
    "The code snippet should be properly displayed using code markdown. \n",
    "\n",
    "1. Which layout type provides the best visualization of the continent-based clustering in the Risk board graph?\n",
    "    - Explain the rationale behind your choice of layout.\n",
    "2. Do a little research and explain what the Kamada-Kawai layout does? Make sure to cite your sources.\n",
    "3. Which part of the code is used to assign the color of each node based on its continent?\n",
    "4. How did you make the legend? Explain any non-obvious part of the code.\n",
    "5. What colormap did you choose for the continents and how did you import the colormap? \n",
    "6. How did you set the node size and font size in the visualization?\n",
    "7. How did you print the labels for the nodes? "
   ]
  },
  {
   "cell_type": "markdown",
   "metadata": {},
   "source": [
    "✎ Do This - Erase the contents of this cell and replace it with your answer to the above question! (double-click on this text to edit this cell, and hit shift+enter to save the text)"
   ]
  },
  {
   "cell_type": "markdown",
   "metadata": {},
   "source": [
    "---\n",
    "## &#128721; STOP\n",
    "**Pause to commit your changes to your Git repository! (1 points)**\n",
    "\n",
    "Take a moment to save your notebook, commit the changes to your Git repository using the commit message \"**Committing Part 3**\", no need to push the changes to GitHub yet, but you can if you want."
   ]
  },
  {
   "cell_type": "markdown",
   "metadata": {},
   "source": [
    "---\n",
    "## Assignment wrap-up\n",
    "\n",
    "Please fill out the form that appears when you run the code below.  **You must completely fill this out in order to receive credit for the assignment!**"
   ]
  },
  {
   "cell_type": "code",
   "execution_count": null,
   "metadata": {},
   "outputs": [],
   "source": [
    "from IPython.display import HTML\n",
    "HTML(\n",
    "\"\"\"\n",
    "<iframe \n",
    "\tsrc=\"https://forms.office.com/r/mB0YjLYvAA\" \n",
    "\twidth=\"800px\" \n",
    "\theight=\"600px\" \n",
    "\tframeborder=\"0\" \n",
    "\tmarginheight=\"0\" \n",
    "\tmarginwidth=\"0\">\n",
    "\tLoading...\n",
    "</iframe>\n",
    "\"\"\"\n",
    ")"
   ]
  },
  {
   "cell_type": "markdown",
   "metadata": {},
   "source": [
    "### Congratulations, you're done!\n",
    "\n",
    "If you like, you can upload this file to D2L for a record. Nevertheless, **we will grade the copy on GitHub**. \n"
   ]
  },
  {
   "cell_type": "markdown",
   "metadata": {},
   "source": [
    "&#169; Copyright 2025,  Department of Computational Mathematics, Science and Engineering at Michigan State University"
   ]
  }
 ],
 "metadata": {
  "kernelspec": {
   "display_name": "Python 3.11 (default)",
   "language": "python",
   "name": "python3"
  },
  "language_info": {
   "codemirror_mode": {
    "name": "ipython",
    "version": 3
   },
   "file_extension": ".py",
   "mimetype": "text/x-python",
   "name": "python",
   "nbconvert_exporter": "python",
   "pygments_lexer": "ipython3",
   "version": "3.11.11"
  }
 },
 "nbformat": 4,
 "nbformat_minor": 4
}
